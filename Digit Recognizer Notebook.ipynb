{
 "cells": [
  {
   "cell_type": "code",
   "execution_count": null,
   "metadata": {},
   "outputs": [],
   "source": [
    "from keras.models import Sequential\n",
    "from keras.layers import Dense, Activation\n",
    "from keras.layers import Dropout\n",
    "from keras.wrappers.scikit_learn import KerasClassifier\n",
    "from sklearn.model_selection import train_test_split\n",
    "from sklearn.pipeline import Pipeline\n",
    "from sklearn.preprocessing import StandardScaler\n",
    "from sklearn.model_selection import GridSearchCV\n",
    "import pandas as pd\n",
    "import numpy as np"
   ]
  },
  {
   "cell_type": "code",
   "execution_count": null,
   "metadata": {},
   "outputs": [],
   "source": [
    "training = pd.read_csv('train.csv')\n",
    "test = pd.read_csv('test.csv')\n",
    "target = 'label'\n",
    "trainSplitRandomSeed = 1"
   ]
  },
  {
   "cell_type": "code",
   "execution_count": null,
   "metadata": {},
   "outputs": [],
   "source": [
    "X_training = training.loc[:, training.columns != target]\n",
    "X_training = X_training / 255.0\n",
    "test = test / 255.0\n",
    "y_training = training[target]"
   ]
  },
  {
   "cell_type": "code",
   "execution_count": null,
   "metadata": {},
   "outputs": [],
   "source": [
    "X_train, X_validation, y_train, y_validation = train_test_split(X_training, y_training, stratify = y_training,\n",
    "                                                                random_state = trainSplitRandomSeed, test_size=0.1)"
   ]
  },
  {
   "cell_type": "code",
   "execution_count": null,
   "metadata": {},
   "outputs": [],
   "source": [
    "def CreateNNModel(inputShape, outputShape, dropoutRate):\n",
    "    model = Sequential()\n",
    "    model.add(Dense(inputShape, activation='relu', input_dim=inputShape))\n",
    "    model.add(Dense(inputShape * 2, activation='relu'))\n",
    "    model.add(Dense(int(inputShape * 1.5), activation='relu'))\n",
    "    model.add(Dropout(dropoutRate))\n",
    "    model.add(Dense(inputShape, activation='relu'))\n",
    "    model.add(Dense(outputShape, activation='softmax'))\n",
    "    model.compile(optimizer='adam',\n",
    "                  loss='categorical_crossentropy',\n",
    "                  metrics=['accuracy'])\n",
    "    return model"
   ]
  },
  {
   "cell_type": "code",
   "execution_count": null,
   "metadata": {},
   "outputs": [],
   "source": [
    "nnRegressor = KerasClassifier(build_fn=CreateNNModel, verbose=1)\n",
    "\n",
    "estimators = [('Scaler', StandardScaler()), ('nn', nnRegressor)]\n",
    "\n",
    "pipeline = Pipeline(estimators)\n",
    "param_grid = {\n",
    "  'nn__inputShape': [784],\n",
    "  'nn__dropoutRate': [0.2],\n",
    "  'nn__outputShape': [10],\n",
    "  'nn__batch_size' : [100],\n",
    "  'nn__validation_split' : [0.1],\n",
    "  'nn__epochs' : [30]\n",
    "}"
   ]
  },
  {
   "cell_type": "code",
   "execution_count": null,
   "metadata": {},
   "outputs": [],
   "source": [
    "reg = GridSearchCV(pipeline, param_grid, cv=3)"
   ]
  },
  {
   "cell_type": "code",
   "execution_count": null,
   "metadata": {
    "scrolled": true
   },
   "outputs": [],
   "source": [
    "reg.fit(X_train, y_train)"
   ]
  },
  {
   "cell_type": "code",
   "execution_count": null,
   "metadata": {},
   "outputs": [],
   "source": [
    "test.index = np.arange(1, len(test) + 1)\n",
    "test['Pred_result'] = reg.predict(test)"
   ]
  },
  {
   "cell_type": "code",
   "execution_count": null,
   "metadata": {},
   "outputs": [],
   "source": [
    "test['Pred_result'].to_csv('result.txt', header = ['Label'], index_label = 'ImageId')"
   ]
  },
  {
   "cell_type": "code",
   "execution_count": null,
   "metadata": {},
   "outputs": [],
   "source": []
  }
 ],
 "metadata": {
  "kernelspec": {
   "display_name": "Python 3",
   "language": "python",
   "name": "python3"
  },
  "language_info": {
   "codemirror_mode": {
    "name": "ipython",
    "version": 3
   },
   "file_extension": ".py",
   "mimetype": "text/x-python",
   "name": "python",
   "nbconvert_exporter": "python",
   "pygments_lexer": "ipython3",
   "version": "3.6.7"
  }
 },
 "nbformat": 4,
 "nbformat_minor": 2
}
